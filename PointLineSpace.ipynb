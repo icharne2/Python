{
  "nbformat": 4,
  "nbformat_minor": 0,
  "metadata": {
    "colab": {
      "provenance": []
    },
    "kernelspec": {
      "name": "python3",
      "display_name": "Python 3"
    },
    "language_info": {
      "name": "python"
    }
  },
  "cells": [
    {
      "cell_type": "markdown",
      "source": [
        "Biblioteki potrzebne do wykonania zadania."
      ],
      "metadata": {
        "id": "U7wZRFsTfCTk"
      }
    },
    {
      "cell_type": "code",
      "source": [
        "import matplotlib.pyplot as plt\n",
        "import numpy as np\n",
        "import math"
      ],
      "metadata": {
        "id": "yKLgorppDSRR"
      },
      "execution_count": 1,
      "outputs": []
    },
    {
      "cell_type": "markdown",
      "source": [
        "Klasa Punkt:"
      ],
      "metadata": {
        "id": "vcvHIZmG3GsW"
      }
    },
    {
      "cell_type": "code",
      "execution_count": 2,
      "metadata": {
        "id": "jqXJQku91Saf"
      },
      "outputs": [],
      "source": [
        "class Point:\n",
        "  def __init__(self, x, y):\n",
        "    self.x = x\n",
        "    self.y = y\n",
        "\n",
        "  def print_point(self):\n",
        "    print(f\"x= {self.x} y= {self.y}\")"
      ]
    },
    {
      "cell_type": "markdown",
      "source": [
        "Klasa Linia:"
      ],
      "metadata": {
        "id": "sq6mX1_i5uEp"
      }
    },
    {
      "cell_type": "code",
      "source": [
        "class Line:\n",
        "  def __init__(self, a, b):\n",
        "    self.a = a\n",
        "    self.b = b\n",
        "\n",
        "  def print_line(self):\n",
        "    if self.b == 0:\n",
        "      print(f\"Równanie linii: y= {round(self.a,3)} * x\")\n",
        "    elif self.b < 0:\n",
        "       print(f\"Równanie linii: y= {round(self.a,3)} * x {self.b}\")\n",
        "    else:\n",
        "      print(f\"Równanie linii: y= {round(self.a,3)} * x + {self.b}\")"
      ],
      "metadata": {
        "id": "LpiLdGwK5vdb"
      },
      "execution_count": 3,
      "outputs": []
    },
    {
      "cell_type": "markdown",
      "source": [
        "Klasa Trójkąt - posiadająca 3 wierzchołki."
      ],
      "metadata": {
        "id": "smKntUCu1vWz"
      }
    },
    {
      "cell_type": "code",
      "source": [
        "class Triangle:\n",
        "  def __init__(self, point1, point2, point3):\n",
        "        self.point1 = point1\n",
        "        self.point2 = point2\n",
        "        self.point3 = point3\n",
        "\n",
        "  def print_triangle(self):\n",
        "        plt.plot([self.point1.x, self.point2.x], [self.point1.y, self.point2.y], color='blue')\n",
        "        plt.plot([self.point2.x, self.point3.x], [self.point2.y, self.point3.y], color='blue')\n",
        "        plt.plot([self.point3.x, self.point1.x], [self.point3.y, self.point1.y], color='blue')\n",
        "\n",
        "        plt.scatter(self.point1.x, self.point1.y, color='red', label='Point 1')\n",
        "        plt.scatter(self.point2.x, self.point2.y, color='red', label='Point 2')\n",
        "        plt.scatter(self.point3.x, self.point3.y, color='red', label='Point 3')\n",
        "\n",
        "        plt.xlabel('x')\n",
        "        plt.ylabel('y')\n",
        "        plt.title('Triangle')\n",
        "        plt.legend()\n",
        "        plt.grid(True)\n",
        "        plt.show()"
      ],
      "metadata": {
        "id": "ekvsheWh1xdt"
      },
      "execution_count": 4,
      "outputs": []
    },
    {
      "cell_type": "markdown",
      "source": [
        "Dodanie nowego punktu poprzez funkcje zewnętrzną dla podanych wartości przez użytkownika."
      ],
      "metadata": {
        "id": "As4IohOrQ50q"
      }
    },
    {
      "cell_type": "code",
      "source": [
        "def create_point_from_user_input():\n",
        "  x = float(input(\"Podaj współrzędną x punktu: \"))\n",
        "  y = float(input(\"Podaj współrzędną y punktu: \"))\n",
        "\n",
        "  return Point(x, y)"
      ],
      "metadata": {
        "id": "2tSka2rlQ4r5"
      },
      "execution_count": 5,
      "outputs": []
    },
    {
      "cell_type": "markdown",
      "source": [
        "Dodanie nowej linii poprzez funkcje zewnętrzną dla podanych wartości przez użytkownika."
      ],
      "metadata": {
        "id": "KMw9QIjYQ5iD"
      }
    },
    {
      "cell_type": "code",
      "source": [
        "def create_line_from_user_input():\n",
        "  a = float(input(\"Podaj wartość współczynnika kierunkowego a: \"))\n",
        "  b = float(input(\"Podaj wartość wyrazu wolnego b:  \"))\n",
        "\n",
        "  return Line(a, b)"
      ],
      "metadata": {
        "id": "sFAAthfPQ4RU"
      },
      "execution_count": 6,
      "outputs": []
    },
    {
      "cell_type": "markdown",
      "source": [
        "Funkcja zwracająca równanie linii w postaci kierunkowej, do której należą dwa punkty."
      ],
      "metadata": {
        "id": "G-dndgI57ODm"
      }
    },
    {
      "cell_type": "code",
      "source": [
        "def create_line(point1, point2):\n",
        "  a = (point1.y - point2.y) / (point1.x - point2.x)\n",
        "  b = point1.y - (a * point1.x)\n",
        "\n",
        "  return Line(a, b)"
      ],
      "metadata": {
        "id": "KmoZKNyq7NUg"
      },
      "execution_count": 7,
      "outputs": []
    },
    {
      "cell_type": "markdown",
      "source": [
        "Funkcja rysująca linie dla podanych punktów korzystająca z biblioteki \"matplotlib\"."
      ],
      "metadata": {
        "id": "dplB4dGiFW_X"
      }
    },
    {
      "cell_type": "code",
      "source": [
        "def plot_line(point1, point2):\n",
        "    plt.plot([point1.x, point2.x], [point1.y, point2.y], '-')\n",
        "    plt.xlabel('Współrzędna X')\n",
        "    plt.ylabel('Współrzędna Y')\n",
        "    plt.title('Równanie linii')\n",
        "    plt.show()"
      ],
      "metadata": {
        "id": "tLOryRFMFeHm"
      },
      "execution_count": 8,
      "outputs": []
    },
    {
      "cell_type": "markdown",
      "source": [
        "Funkcja sprawdzająca przynależność punktu do prostej."
      ],
      "metadata": {
        "id": "wXcALx00MORK"
      }
    },
    {
      "cell_type": "code",
      "source": [
        "def lineage_affiliation(point, line):\n",
        "  if(point.y == ((line.a * point.x) + line.b)):\n",
        "    return True\n",
        "  else:\n",
        "    return False\n"
      ],
      "metadata": {
        "id": "7QD6FpimMUS8"
      },
      "execution_count": 9,
      "outputs": []
    },
    {
      "cell_type": "markdown",
      "source": [
        "Funkcja zwracająca po której stronie prostej jest nasz punkt"
      ],
      "metadata": {
        "id": "1QRSmvtwclUc"
      }
    },
    {
      "cell_type": "code",
      "source": [
        "def which_side(point, line):\n",
        "  result = point.y - (line.a * point.x + line.b)\n",
        "\n",
        "  if result > 0:\n",
        "      print(\"Punkt leży po lewej stronie prostej\")\n",
        "  elif result < 0:\n",
        "      print(\"Punkt leży po prawej stronie prostej\")\n",
        "  else:\n",
        "      print(\"Punkt leży na prostej\")"
      ],
      "metadata": {
        "id": "wqZcoLdpctAl"
      },
      "execution_count": 10,
      "outputs": []
    },
    {
      "cell_type": "markdown",
      "source": [
        "Funkcja wyświetlająca linie i punkt."
      ],
      "metadata": {
        "id": "wsjCT8aOM_6M"
      }
    },
    {
      "cell_type": "code",
      "source": [
        "def show_lineage_affiliatio(point, line):\n",
        "  x_values = np.array([point.x-5, point.x+5])\n",
        "  y_values = line.a * x_values + line.b\n",
        "\n",
        "  plt.plot(x_values, y_values, '-')\n",
        "  plt.scatter(point.x, point.y, color='red', label='Punkt', marker='x')\n",
        "  plt.xlabel('Współrzędna X')\n",
        "  plt.ylabel('Współrzędna Y')\n",
        "  plt.title('Przynależność punktu do linii')\n",
        "  plt.legend()\n",
        "  plt.show()"
      ],
      "metadata": {
        "id": "ABNMZ3QuNGQB"
      },
      "execution_count": 11,
      "outputs": []
    },
    {
      "cell_type": "markdown",
      "source": [
        "Funkcja wyświetlająca odcinek i punkt, który sprawdzamy, czy nalezy do punktu"
      ],
      "metadata": {
        "id": "PDpCq9e3iFn-"
      }
    },
    {
      "cell_type": "code",
      "source": [
        "def plot_line_segment(point_start, point_end, ptr):\n",
        "    plt.scatter(ptr.x, ptr.y, color='red', label='Punkt', marker='x')\n",
        "    plt.plot([point_start.x, point_end.x], [point_start.y, point_end.y], marker='o')\n",
        "    plt.xlabel('Współrzędna X')\n",
        "    plt.ylabel('Współrzędna Y')\n",
        "    plt.title('Rysowanie odcinka')\n",
        "    plt.legend()\n",
        "    plt.show()"
      ],
      "metadata": {
        "id": "YWbzQwfPiJZM"
      },
      "execution_count": 12,
      "outputs": []
    },
    {
      "cell_type": "markdown",
      "source": [
        "Sprawdzenie przynależności punktu do linii (odcinka)."
      ],
      "metadata": {
        "id": "bG6CJv-9i1YI"
      }
    },
    {
      "cell_type": "code",
      "source": [
        "def point_in_line_segment(point, segment_start, segment_end):\n",
        "    #Czy współrzędne punktu są pomiędzy współrzędnymi punktów odcinka\n",
        "    x_min = min(segment_start.x, segment_end.x)\n",
        "    x_max = max(segment_start.x, segment_end.x)\n",
        "    y_min = min(segment_start.y, segment_end.y)\n",
        "    y_max = max(segment_start.y, segment_end.y)\n",
        "\n",
        "    if x_min <= point.x <= x_max and y_min <= point.y <= y_max:\n",
        "        #Orientację punktu względem odcinka\n",
        "        orientation = (point.x - segment_start.x) * (segment_end.y - segment_start.y) - (point.y - segment_start.y) * (segment_end.x - segment_start.x)\n",
        "        # Ze wzoru: (y-y1)(x2-x1)-(y2-y1)(x-x1)=0\n",
        "\n",
        "        if orientation == 0:\n",
        "            print(\"Punkt leży na odcinku\")\n",
        "        elif orientation < 0:\n",
        "            print(\"Punkt leży po lewej stronie odcinka\")\n",
        "        elif orientation > 0:\n",
        "            print(\"Punkt leży po prawej stronie odcinka\")\n",
        "        else:\n",
        "            print(\"Punkt nie leży na odcinku\")\n",
        "    else:\n",
        "        print(\"Punkt nie leży na odcinku\")"
      ],
      "metadata": {
        "id": "NUTbAjQti2IY"
      },
      "execution_count": 13,
      "outputs": []
    },
    {
      "cell_type": "markdown",
      "source": [
        "Funkcja, która dokonuje translacji linii o podany wektor. Można też zrobić korzystając ze współczynnika kierunkowego i wyrazu wolnego ze wzoru  y = a(x-c) + d + d, gdzie:\n",
        "c to przesunięcie w kierunku OX,\n",
        "\n",
        "d to przesunięcie w kierunku OY.\n",
        "co daje nam nową linie Line2 = Line(a, b+d-a*c), wtedy do funkcji musimy przekazać jedynie wektor i zwrócić Line2, która nadpisze poprzednią."
      ],
      "metadata": {
        "id": "lUHAwjKHrVN5"
      }
    },
    {
      "cell_type": "code",
      "source": [
        "#Translacja o wektor\n",
        "def translate(pkt_line_start, pkt_line_end, vector):\n",
        "  pkt_line_start.x += vector.x\n",
        "  pkt_line_start.y += vector.y\n",
        "\n",
        "  pkt_line_end.x += vector.x\n",
        "  pkt_line_end.y += vector.y\n",
        "\n",
        "  return create_line(pkt_line_start, pkt_line_end)"
      ],
      "metadata": {
        "id": "6TdWCODpkjwd"
      },
      "execution_count": 14,
      "outputs": []
    },
    {
      "cell_type": "markdown",
      "source": [
        "Funkcja, która dokonuje odbicia danego punktu względem linii. dbicie punktu(x,y) względem prostej o równaniu y=mx+b można uzyskać za pomocą wzorów:\n",
        "\n",
        "![obraz_2024-03-07_225905225.png](data:image/png;base64,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)"
      ],
      "metadata": {
        "id": "QFQXpqIxrZ2X"
      }
    },
    {
      "cell_type": "code",
      "source": [
        "def reflect_point(point, line):\n",
        "    m = line.a  # współczynnik kierunkowy prostej\n",
        "\n",
        "    x_prime = ((1 - m**2) * point.x + 2 * m * point.y - 2 * m * line.b) / (1 + m**2)\n",
        "    y_prime = (2 * m * point.x + (m**2 - 1) * point.y + 2 * line.b) / (1 + m**2)\n",
        "\n",
        "    reflected_point = Point(x_prime, y_prime)\n",
        "    return reflected_point"
      ],
      "metadata": {
        "id": "xpIY6ljC7Wzz"
      },
      "execution_count": 15,
      "outputs": []
    },
    {
      "cell_type": "markdown",
      "source": [
        "Funkcja wypisująca punkty - pierwotny i odbity oraz linię względem, której to robiono."
      ],
      "metadata": {
        "id": "S6CtBvfl7z0D"
      }
    },
    {
      "cell_type": "code",
      "source": [
        "def show(point, point2, line):\n",
        "  x_values = np.array([point.x-5, point.x+5])\n",
        "  y_values = line.a * x_values + line.b\n",
        "\n",
        "  plt.plot(x_values, y_values, '-')\n",
        "  plt.scatter(point.x, point.y, color='red', label='Punkt pierwotny', marker='x')\n",
        "  plt.scatter(point2.x, point2.y, color='blue', label='Punkt odbity', marker='o')\n",
        "  plt.xlabel('Współrzędna X')\n",
        "  plt.ylabel('Współrzędna Y')\n",
        "  plt.title('Odbicie punktu wzgledem linii')\n",
        "  plt.legend()\n",
        "  plt.show()"
      ],
      "metadata": {
        "id": "skpJVolK8G4a"
      },
      "execution_count": 16,
      "outputs": []
    },
    {
      "cell_type": "markdown",
      "source": [
        "Funkcja służąca do obliczania punktu przecięcia dwóch prostych na podstawie współczynników równania w postaci ogólnej"
      ],
      "metadata": {
        "id": "HjIceqw01PFg"
      }
    },
    {
      "cell_type": "code",
      "source": [
        "def intersectionPoint(line1, line2):\n",
        "    x = (line1.b - line2.b) / (line2.a - line1.a)\n",
        "    y = line1.a * x + line1.b\n",
        "    point1 = Point(x, y)\n",
        "    point1.print_point()\n",
        "\n",
        "    # Wykres\n",
        "    x_vals = np.linspace(-10, 10, 100)\n",
        "    y_vals1 = line1.a * x_vals + line1.b\n",
        "    y_vals2 = line2.a * x_vals + line2.b\n",
        "\n",
        "    plt.plot(x_vals, y_vals1, label='Linia 1')\n",
        "    plt.plot(x_vals, y_vals2, label='Linia 2')\n",
        "    plt.scatter(x, y, color='red', label='Punkt przecięcia')\n",
        "    plt.xlabel('x')\n",
        "    plt.ylabel('y')\n",
        "    plt.title('Wykres przecięcia dwóch linii')\n",
        "    plt.legend()\n",
        "    plt.grid(True)\n",
        "    plt.show()"
      ],
      "metadata": {
        "id": "nfq-cE6q1OtO"
      },
      "execution_count": 17,
      "outputs": []
    },
    {
      "cell_type": "markdown",
      "source": [
        "Funkcja służąca do obliczania punktu przecięcia dwóch prostych na podstawie dwóch linii o znanym początku i końcu (punkt przecięcia prostych\n",
        "przechodzących przez te linie)"
      ],
      "metadata": {
        "id": "qw7RWfkN1WvP"
      }
    },
    {
      "cell_type": "code",
      "source": [
        "def intersectionPoint2(line_1, line_2):\n",
        "    #Obliczanie punktu przeciecia\n",
        "    x=(line_1.b-line_2.b)/(line_2.a-line_1.a)\n",
        "    y=line_1.a*x+line_1.b\n",
        "    point1 = Point(x,y)\n",
        "\n",
        "    # Wykres\n",
        "    x_vals = np.linspace(-10, 10, 100)\n",
        "    y_vals1 = line_1.a * x_vals + line_1.b\n",
        "    y_vals2 = line_2.a * x_vals + line_2.b\n",
        "\n",
        "    plt.plot(x_vals, y_vals1, label='Linia 1')\n",
        "    plt.plot(x_vals, y_vals2, label='Linia 2')\n",
        "    plt.scatter(x, y, color='red', label='Punkt przecięcia')\n",
        "    plt.xlabel('x')\n",
        "    plt.ylabel('y')\n",
        "    plt.title('Wykres przecięcia dwóch linii')\n",
        "    plt.legend()\n",
        "    plt.grid(True)\n",
        "    plt.show()\n"
      ],
      "metadata": {
        "id": "IdXbkybh1ci-"
      },
      "execution_count": 18,
      "outputs": []
    },
    {
      "cell_type": "markdown",
      "source": [
        "Oblicznie odległości punktu od prostej + rysunek:\n",
        "\n",
        "![image.png](data:image/png;base64,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)"
      ],
      "metadata": {
        "id": "NFmJPAEvRFjl"
      }
    },
    {
      "cell_type": "code",
      "source": [
        "def distanceFromTheLine(line, point1):\n",
        "  distance = (abs(line.a* point1.x + 1 * point1.y + line.b))/(math.sqrt(line.a**2+1))\n",
        "  print(f\"Odległość między punktem, a prosta wynosi {distance}\")\n",
        "\n",
        "  # Wykres\n",
        "  x_vals = np.linspace(-10, 10, 100)\n",
        "  y_vals = line.a * x_vals + line.b\n",
        "\n",
        "  plt.plot(x_vals, y_vals, label='Linia')\n",
        "  plt.scatter(point1.x, point1.y, color='red', label='Punkt')\n",
        "  plt.xlabel('x')\n",
        "  plt.ylabel('y')\n",
        "  plt.title('Wykres odległości punktu od linii')\n",
        "  plt.legend()\n",
        "  plt.grid(True)\n",
        "  plt.show()"
      ],
      "metadata": {
        "id": "KXXowNJcROZ8"
      },
      "execution_count": 19,
      "outputs": []
    },
    {
      "cell_type": "markdown",
      "source": [
        "Funkcja znajdująca punkt przecięcia się dwóch prostych"
      ],
      "metadata": {
        "id": "7q9s33Ga2o4Z"
      }
    },
    {
      "cell_type": "code",
      "source": [
        "def pointFromTwoLines(line1, line2):\n",
        "    x = (line1.b-line2.b)/(line2.a-line1.a)\n",
        "    y = line1.a * x+line1.b\n",
        "    point=Point(x,y)\n",
        "\n",
        "    return point"
      ],
      "metadata": {
        "id": "jWUcqfeW2lA6"
      },
      "execution_count": 20,
      "outputs": []
    },
    {
      "cell_type": "markdown",
      "source": [
        "Program główny - menu"
      ],
      "metadata": {
        "id": "ooWOeoA84Jrx"
      }
    },
    {
      "cell_type": "code",
      "source": [
        "def main():\n",
        "  print(\"Menu Lab_02_03:\")\n",
        "  print(\"1. Wyznaczenie równania prostej, do której należy dana linia.\")\n",
        "  print(\"2. Sprawdzenie przynależności punktu do prostej.\")\n",
        "  print(\"3. Sprawdzenie przynależności punktu do linii (odcinka).\")\n",
        "  print(\"4. Określenie położenia punktu względem prostej (prawo/lewo).\")\n",
        "  print(\"5. Dokonanie translacji linii o podany wektor.\")\n",
        "  print(\"6. Dokonanie odbicia danego punktu względem linii.\")\n",
        "  print(\"7. Obliczanie punktu przecięcia dwóch prostych na podstawie współczynników równania w postaci ogólnej.\")\n",
        "  print(\"8. Obliczanie punktu przecięcia dwóch prostych na podstawie dwóch linii o znanym początku i końcu.\")\n",
        "  print(\"9. Zmierzenie odległości między punktem a linią.\")\n",
        "  print(\"10. Obiekt trójkąt ograniczony trzema prostymi.\")\n",
        "\n",
        "  option = input(\"Wybierz opcje: \")\n",
        "  if option == \"1\":\n",
        "    point_a = create_point_from_user_input()\n",
        "    point_b = create_point_from_user_input()\n",
        "\n",
        "    line_1 = create_line(point_a, point_b)\n",
        "    line_1.print_line()\n",
        "\n",
        "    plot_line(point_a, point_b)\n",
        "\n",
        "  elif option == \"2\":\n",
        "    point = create_point_from_user_input()\n",
        "    line = create_line_from_user_input()\n",
        "\n",
        "    if(lineage_affiliation(point, line)):\n",
        "      print(\"Punkt nalezy do linii :>\")\n",
        "    else:\n",
        "      print(\"Punkt nie należy do linii :<\")\n",
        "\n",
        "    show_lineage_affiliatio(point, line)\n",
        "  elif option == \"3\":\n",
        "    #Aby sprawdzić, czy punkt należy do odcinka linii musimy mieć dwa punkty,\n",
        "    #które ograniczają linie\n",
        "\n",
        "    print(\"Dla odcinka:\")\n",
        "    point_start = create_point_from_user_input()\n",
        "    point_end = create_point_from_user_input()\n",
        "\n",
        "    print(\"Punkt dla którego sprawdzamy, czy należy na odcinku\")\n",
        "    ptr = create_point_from_user_input()\n",
        "\n",
        "    point_in_line_segment(ptr, point_start, point_end)\n",
        "    plot_line_segment(point_start, point_end, ptr)\n",
        "\n",
        "  elif option == \"4\":\n",
        "    point = create_point_from_user_input()\n",
        "    line = create_line_from_user_input()\n",
        "\n",
        "    which_side(point, line)\n",
        "    show_lineage_affiliatio(point, line)\n",
        "  elif option == \"5\":\n",
        "    #Tworzenie linii\n",
        "    point_start = create_point_from_user_input()\n",
        "    point_end = create_point_from_user_input()\n",
        "    line = create_line(point_start, point_end)\n",
        "\n",
        "    print(\"Linia przed translacja.\")\n",
        "    line.print_line()\n",
        "    plot_line(point_start, point_end)\n",
        "\n",
        "    print(\"Wsporzedne wektora na podstawie, ktorego wykonujemy translacje\")\n",
        "    ptr = create_point_from_user_input()\n",
        "\n",
        "    #Translacja\n",
        "    line = translate(point_start, point_end, ptr)\n",
        "\n",
        "    print(\"Linia po translacji.\")\n",
        "    line.print_line()\n",
        "    plot_line(point_start, point_end)\n",
        "\n",
        "  elif option == \"6\":\n",
        "    print(\"Linia względem którem dokonujemy odbicia\")\n",
        "    line = create_line_from_user_input()\n",
        "\n",
        "    print(\"Punkt, który odbijamy\")\n",
        "    ptr = create_point_from_user_input()\n",
        "    ptr2 = reflect_point(ptr, line)\n",
        "\n",
        "    show(ptr, ptr2, line)\n",
        "  elif option == \"7\":\n",
        "    line1 = create_line_from_user_input()\n",
        "    line2 = create_line_from_user_input()\n",
        "\n",
        "    intersectionPoint(line1, line2)\n",
        "  elif option == \"8\":\n",
        "    print(\"Pierwsza prosta\")\n",
        "    point_a = create_point_from_user_input()\n",
        "    point_b = create_point_from_user_input()\n",
        "    line_1 = create_line(point_a, point_b)\n",
        "\n",
        "    print(\"Druga prosta\")\n",
        "    point_a2 = create_point_from_user_input()\n",
        "    point_b2 = create_point_from_user_input()\n",
        "    line_2 = create_line(point_a2, point_b2)\n",
        "\n",
        "    intersectionPoint2(line_1, line_2)\n",
        "  elif option == \"9\":\n",
        "    point = create_point_from_user_input()\n",
        "    line1 = create_line_from_user_input()\n",
        "\n",
        "    distanceFromTheLine(line1, point)\n",
        "  elif option == \"10\":\n",
        "    line1 = create_line_from_user_input()\n",
        "    line2 = create_line_from_user_input()\n",
        "    line3 = create_line_from_user_input()\n",
        "\n",
        "    point1 = pointFromTwoLines(line1, line2)\n",
        "    point2 = pointFromTwoLines(line2, line3)\n",
        "    point3 = pointFromTwoLines(line3, line1)\n",
        "\n",
        "    triangle = Triangle(point1, point2, point3)\n",
        "    triangle.print_triangle()\n",
        "  else:\n",
        "    print(\"Nieprawiodłowy wybór :<\")\n",
        "\n",
        "\n",
        "if __name__ == \"__main__\":\n",
        "    main()"
      ],
      "metadata": {
        "colab": {
          "base_uri": "https://localhost:8080/",
          "height": 854
        },
        "id": "KLctkebu1T7-",
        "outputId": "907c5aff-83ba-4efe-ec85-08133fdc94a3"
      },
      "execution_count": 21,
      "outputs": [
        {
          "name": "stdout",
          "output_type": "stream",
          "text": [
            "Menu Lab_02_03:\n",
            "1. Wyznaczenie równania prostej, do której należy dana linia.\n",
            "2. Sprawdzenie przynależności punktu do prostej.\n",
            "3. Sprawdzenie przynależności punktu do linii (odcinka).\n",
            "4. Określenie położenia punktu względem prostej (prawo/lewo).\n",
            "5. Dokonanie translacji linii o podany wektor.\n",
            "6. Dokonanie odbicia danego punktu względem linii.\n",
            "7. Obliczanie punktu przecięcia dwóch prostych na podstawie współczynników równania w postaci ogólnej.\n",
            "8. Obliczanie punktu przecięcia dwóch prostych na podstawie dwóch linii o znanym początku i końcu.\n",
            "9. Zmierzenie odległości między punktem a linią.\n",
            "10. Obiekt trójkąt ograniczony trzema prostymi.\n",
            "Wybierz opcje: 8\n",
            "Pierwsza prosta\n",
            "Podaj współrzędną x punktu: 0\n",
            "Podaj współrzędną y punktu: 1\n",
            "Podaj współrzędną x punktu: 0.4\n",
            "Podaj współrzędną y punktu: -0.2\n",
            "Druga prosta\n",
            "Podaj współrzędną x punktu: 0\n",
            "Podaj współrzędną y punktu: -1\n",
            "Podaj współrzędną x punktu: 0.6\n",
            "Podaj współrzędną y punktu: 0.8\n"
          ]
        },
        {
          "output_type": "display_data",
          "data": {
            "text/plain": [
              "<Figure size 640x480 with 1 Axes>"
            ],
            "image/png": "[encoded data removed]"
          },
          "metadata": {}
        }
      ]
    }
  ]
}